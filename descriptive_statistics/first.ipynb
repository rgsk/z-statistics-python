{
 "cells": [
  {
   "cell_type": "code",
   "execution_count": 1,
   "metadata": {},
   "outputs": [],
   "source": [
    "def get_mean(arr):\n",
    "    s = 0\n",
    "    for v in arr:\n",
    "        s += v\n",
    "    n = len(arr)\n",
    "    mean = s/n\n",
    "\n",
    "    return mean\n"
   ]
  },
  {
   "cell_type": "code",
   "execution_count": 2,
   "metadata": {},
   "outputs": [
    {
     "name": "stdout",
     "output_type": "stream",
     "text": [
      "3.0\n"
     ]
    }
   ],
   "source": [
    "arr = [1, 2, 3, 4, 5]\n",
    "mean = get_mean(arr)\n",
    "print(mean)\n"
   ]
  },
  {
   "cell_type": "code",
   "execution_count": 3,
   "metadata": {},
   "outputs": [
    {
     "name": "stdout",
     "output_type": "stream",
     "text": [
      "{65: 4, 81: 4, 78: 6, 76: 6}\n"
     ]
    }
   ],
   "source": [
    "data = {\n",
    "    65: 4,\n",
    "    81: 4,\n",
    "    78: 6,\n",
    "    76: 6\n",
    "}\n",
    "print(data)\n"
   ]
  },
  {
   "cell_type": "code",
   "execution_count": 4,
   "metadata": {},
   "outputs": [],
   "source": [
    "def get_weighted_mean(data):\n",
    "    sxfx = 0\n",
    "    sfx = 0\n",
    "    for x in data:\n",
    "        sxfx += x*data[x]\n",
    "        sfx += data[x]\n",
    "\n",
    "    mean = sxfx/sfx\n",
    "    return mean\n"
   ]
  },
  {
   "cell_type": "code",
   "execution_count": 5,
   "metadata": {},
   "outputs": [
    {
     "name": "stdout",
     "output_type": "stream",
     "text": [
      "75.4\n"
     ]
    }
   ],
   "source": [
    "print(get_weighted_mean(data))\n"
   ]
  },
  {
   "cell_type": "code",
   "execution_count": 6,
   "metadata": {},
   "outputs": [],
   "source": [
    "def get_geometric_mean(arr):\n",
    "    n = len(arr)\n",
    "    p = 1\n",
    "    for v in arr:\n",
    "        p *= v\n",
    "\n",
    "    gm = pow(p, 1/n)\n",
    "    return gm\n"
   ]
  },
  {
   "cell_type": "code",
   "execution_count": null,
   "metadata": {},
   "outputs": [],
   "source": []
  },
  {
   "cell_type": "code",
   "execution_count": 7,
   "metadata": {},
   "outputs": [
    {
     "name": "stdout",
     "output_type": "stream",
     "text": [
      "1.197215767258376\n"
     ]
    }
   ],
   "source": [
    "arr1 = [1.1, 1.2, 1.3]\n",
    "print(get_geometric_mean(arr1))\n"
   ]
  },
  {
   "cell_type": "code",
   "execution_count": 8,
   "metadata": {},
   "outputs": [],
   "source": [
    "def get_harmonic_mean(arr):\n",
    "    n = len(arr)\n",
    "    rs = 0\n",
    "    for v in arr:\n",
    "        rs += 1/v\n",
    "\n",
    "    hm = n/rs\n",
    "    return hm\n"
   ]
  },
  {
   "cell_type": "code",
   "execution_count": 9,
   "metadata": {},
   "outputs": [
    {
     "name": "stdout",
     "output_type": "stream",
     "text": [
      "2.4000000000000004\n",
      "0.3333333333333333\n"
     ]
    }
   ],
   "source": [
    "print(get_harmonic_mean([2, 3]))  # 2.4\n",
    "print(get_harmonic_mean([1/2, 1/4]))  # 1/3\n"
   ]
  },
  {
   "cell_type": "code",
   "execution_count": 10,
   "metadata": {},
   "outputs": [],
   "source": [
    "import math\n",
    "\n",
    "\n",
    "def get_median(arr):\n",
    "    n = len(arr)\n",
    "    sorted_arr = sorted(arr)\n",
    "    if n % 2 == 0:\n",
    "        # even\n",
    "        return (sorted_arr[math.floor(n/2)-1] + sorted_arr[math.floor(n/2)])/2\n",
    "    else:\n",
    "        return sorted_arr[math.floor(n/2)]\n"
   ]
  },
  {
   "cell_type": "code",
   "execution_count": 11,
   "metadata": {
    "vscode": {
     "languageId": "javascript"
    }
   },
   "outputs": [
    {
     "name": "stdout",
     "output_type": "stream",
     "text": [
      "28\n",
      "30.5\n"
     ]
    }
   ],
   "source": [
    "print(get_median([10, 28, 28, 33, 54]));\n",
    "print(get_median([10, 28, 28, 33, 54, 59]));\n"
   ]
  },
  {
   "cell_type": "markdown",
   "metadata": {},
   "source": [
    "Mean VS Median\n",
    "In case of Symmetric Distribution, both mean and median give same results\n"
   ]
  },
  {
   "cell_type": "code",
   "execution_count": 12,
   "metadata": {},
   "outputs": [
    {
     "name": "stdout",
     "output_type": "stream",
     "text": [
      "1.5\n",
      "1.5\n"
     ]
    }
   ],
   "source": [
    "data = [0, 1, 2, 3, 3, 2, 1, 0]\n",
    "print(get_mean(data))\n",
    "print(get_median(data))\n"
   ]
  },
  {
   "cell_type": "code",
   "execution_count": 13,
   "metadata": {},
   "outputs": [
    {
     "name": "stdout",
     "output_type": "stream",
     "text": [
      "10.0\n",
      "10.0\n"
     ]
    }
   ],
   "source": [
    "data = [10, 10, 10, 10]\n",
    "print(get_mean(data))\n",
    "print(get_median(data))\n"
   ]
  },
  {
   "cell_type": "code",
   "execution_count": 14,
   "metadata": {},
   "outputs": [
    {
     "name": "stdout",
     "output_type": "stream",
     "text": [
      "2.0\n",
      "2.0\n"
     ]
    }
   ],
   "source": [
    "data = [0, 1, 2, 3, 4, 2, 2, 4, 3, 2, 1, 0]\n",
    "print(get_mean(data))\n",
    "print(get_median(data))\n"
   ]
  },
  {
   "cell_type": "code",
   "execution_count": 15,
   "metadata": {},
   "outputs": [
    {
     "name": "stdout",
     "output_type": "stream",
     "text": [
      "2.0\n",
      "2.0\n"
     ]
    }
   ],
   "source": [
    "data = [0, 1, 2, 3, 4, 3, 1, 3, 1, 4, 3, 2, 1, 0]\n",
    "print(get_mean(data))\n",
    "print(get_median(data))\n"
   ]
  },
  {
   "cell_type": "markdown",
   "metadata": {},
   "source": [
    "in case of scewed data, median might be more preferrable since mean might get too deviated\n"
   ]
  },
  {
   "cell_type": "code",
   "execution_count": 16,
   "metadata": {},
   "outputs": [
    {
     "name": "stdout",
     "output_type": "stream",
     "text": [
      "mean = 127.8\n",
      "median = 28\n"
     ]
    }
   ],
   "source": [
    "data = [10, 28, 28, 33, 540]\n",
    "print('mean =', get_mean(data))\n",
    "print('median =', get_median(data))\n"
   ]
  },
  {
   "cell_type": "code",
   "execution_count": 17,
   "metadata": {},
   "outputs": [],
   "source": [
    "def get_mode(freq_table: 'dict[int,int]'):\n",
    "    max_freq = 0\n",
    "    ans = -1\n",
    "    for v in freq_table:\n",
    "        if freq_table[v] > max_freq:\n",
    "            ans = v\n",
    "            max_freq = freq_table[v]\n",
    "    return ans\n",
    "def get_mode_from_array(arr: 'list[int]'):\n",
    "    freq_table = {\n",
    "        -1: 0,\n",
    "    }\n",
    "    for v in arr:\n",
    "        freq_table[v] = freq_table.get(v, 0) + 1\n",
    "    return get_mode(freq_table)\n"
   ]
  },
  {
   "cell_type": "code",
   "execution_count": 18,
   "metadata": {},
   "outputs": [
    {
     "name": "stdout",
     "output_type": "stream",
     "text": [
      "28\n",
      "54\n"
     ]
    }
   ],
   "source": [
    "print(get_mode_from_array([10,28,28,33,540]))\n",
    "print(get_mode_from_array([10,28,33,54,54]))"
   ]
  },
  {
   "cell_type": "markdown",
   "metadata": {},
   "source": [
    "mode sucks for small samples"
   ]
  },
  {
   "cell_type": "code",
   "execution_count": 19,
   "metadata": {},
   "outputs": [],
   "source": [
    "# kids families data\n",
    "# row means 1.5 million families have 1 kid\n",
    "data = {\n",
    "    1: 1.5,\n",
    "    2: 1.8,\n",
    "    3: 1.0,\n",
    "    4: .4,\n",
    "    5: .2,\n",
    "    6: .1\n",
    "}"
   ]
  },
  {
   "cell_type": "code",
   "execution_count": 20,
   "metadata": {},
   "outputs": [
    {
     "name": "stdout",
     "output_type": "stream",
     "text": [
      "mode = 2\n",
      "mean = 2.26\n",
      "median = 2\n"
     ]
    }
   ],
   "source": [
    "print('mode =',get_mode(data))\n",
    "print('mean =',get_weighted_mean(data))\n",
    "# median will also comeout to be 2\n",
    "# TODO: we need to calculate median based on frequencies\n",
    "print('median =', 2)"
   ]
  }
 ],
 "metadata": {
  "kernelspec": {
   "display_name": "Python 3.9.12 ('base')",
   "language": "python",
   "name": "python3"
  },
  "language_info": {
   "codemirror_mode": {
    "name": "ipython",
    "version": 3
   },
   "file_extension": ".py",
   "mimetype": "text/x-python",
   "name": "python",
   "nbconvert_exporter": "python",
   "pygments_lexer": "ipython3",
   "version": "3.9.12"
  },
  "orig_nbformat": 4,
  "vscode": {
   "interpreter": {
    "hash": "41f7ba8645af086de5a2c668809fdb57629028366d5687fb2c6a0345f663f190"
   }
  }
 },
 "nbformat": 4,
 "nbformat_minor": 2
}
